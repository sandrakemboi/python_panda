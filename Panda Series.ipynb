{
 "cells": [
  {
   "cell_type": "code",
   "execution_count": 1,
   "id": "d7b98491-1e53-4692-b51f-c9ea3aa130b9",
   "metadata": {},
   "outputs": [],
   "source": [
    "import pandas as pd"
   ]
  },
  {
   "cell_type": "markdown",
   "id": "5a5db6f5-6869-4340-863f-bdab32c47d2d",
   "metadata": {},
   "source": [
    "# User\n",
    "i would like to download the file to python"
   ]
  },
  {
   "cell_type": "markdown",
   "id": "bbe17c62-3b91-4f4e-8fc5-5423e207b255",
   "metadata": {},
   "source": [
    "# Assistant\n",
    "I notice your question is quite general. To help you download a file in Python, I'll need to know:\n",
    "1. What type of file you want to download (CSV, JSON, TXT, etc.)\n",
    "2. Where the file is located (URL, local system, etc.)\n",
    "\n",
    "However, I can provide a general solution using Python's common packages for downloading files:\n"
   ]
  },
  {
   "cell_type": "code",
   "execution_count": null,
   "id": "fb60619c-f0be-439f-8a50-7096d6d062b3",
   "metadata": {},
   "outputs": [],
   "source": [
    "# Method 1: Using urllib (built-in Python library)\n",
    "from urllib.request import urlretrieve\n",
    "\n",
    "# Replace 'url' with your file's URL and 'filename' with desired saved name\n",
    "url = \"https://example.com/file.csv\"\n",
    "filename = \"downloaded_file.csv\"\n",
    "\n",
    "# Download the file\n",
    "urlretrieve(url, filename)\n",
    "\n",
    "# Method 2: Using requests (recommended)\n",
    "import requests\n",
    "\n",
    "response = requests.get(url)\n",
    "with open(filename, 'wb') as f:\n",
    "    f.write(response.content)\n"
   ]
  },
  {
   "cell_type": "code",
   "execution_count": 2,
   "id": "6f5e606d-66c7-4029-8a02-803159e420e1",
   "metadata": {},
   "outputs": [
    {
     "data": {
      "text/plain": [
       "'2.2.3'"
      ]
     },
     "execution_count": 2,
     "metadata": {},
     "output_type": "execute_result"
    }
   ],
   "source": [
    "pd.__version__"
   ]
  },
  {
   "cell_type": "markdown",
   "id": "70104419-a15c-4d89-b94e-6d337fd5848c",
   "metadata": {},
   "source": [
    "\n",
    "Recommended packages for different file types:\n",
    "1. For web files: `requests` (most popular)\n",
    "2. For data files:\n",
    "   - `pandas` for CSV, Excel, JSON\n",
    "   - `openpyxl` for Excel files\n",
    "   - `json` for JSON files (built-in)\n",
    "3. For large files: `wget`\n",
    "\n",
    "Please provide more details about your specific file, and I can give you a more targeted solution."
   ]
  },
  {
   "cell_type": "code",
   "execution_count": 5,
   "id": "94844777-c1de-4ceb-9157-ee3ce101d5bf",
   "metadata": {},
   "outputs": [
    {
     "name": "stdout",
     "output_type": "stream",
     "text": [
      "Series([], dtype: object)\n"
     ]
    }
   ],
   "source": [
    "#USING LISTS TO CREATE SERIES\n",
    "#To access any classes or functions inside pandas library we use (pd.) followed by the name of classs and functions one wants to use.\n",
    "S1 = pd.Series()\n",
    "print(S1\n",
    "\n"
   ]
  },
  {
   "cell_type": "code",
   "execution_count": 7,
   "id": "95a79842-c6b8-4dd2-b93c-93d9f322aed2",
   "metadata": {},
   "outputs": [
    {
     "data": {
      "text/plain": [
       "0    1\n",
       "1    2\n",
       "2    3\n",
       "3    4\n",
       "4    5\n",
       "dtype: int64"
      ]
     },
     "execution_count": 7,
     "metadata": {},
     "output_type": "execute_result"
    }
   ],
   "source": [
    "#How to add data to series\n",
    "s2 = pd.Series([1,2,3,4,5])\n",
    "s2"
   ]
  },
  {
   "cell_type": "code",
   "execution_count": 13,
   "id": "eb01e166-fdf8-4dc3-88fe-e52ed7c81be4",
   "metadata": {},
   "outputs": [
    {
     "name": "stdout",
     "output_type": "stream",
     "text": [
      "[1 2 3 4 5]\n",
      "RangeIndex(start=0, stop=5, step=1)\n"
     ]
    }
   ],
   "source": [
    "#How to access the values or lables separetly\n",
    "print (s2.values)\n",
    "print (s2.index)"
   ]
  },
  {
   "cell_type": "code",
   "execution_count": 17,
   "id": "51bbc5e0-e647-47d1-bede-0faedd950075",
   "metadata": {},
   "outputs": [
    {
     "data": {
      "text/plain": [
       "10    1\n",
       "20    2\n",
       "30    3\n",
       "40    4\n",
       "50    5\n",
       "dtype: int64"
      ]
     },
     "execution_count": 17,
     "metadata": {},
     "output_type": "execute_result"
    }
   ],
   "source": [
    "#How to add labesl and values to series \n",
    "s3= pd.Series([1,2,3,4,5],index = [10,20,30,40,50])\n",
    "s3"
   ]
  },
  {
   "cell_type": "code",
   "execution_count": 23,
   "id": "b69508cb-93dc-4ea6-85ed-c947c1bf4bee",
   "metadata": {},
   "outputs": [
    {
     "name": "stdout",
     "output_type": "stream",
     "text": [
      "Index(['john', 'mary', 'jamees', 'fei'], dtype='object')\n",
      "[12 15 20 10]\n"
     ]
    }
   ],
   "source": [
    "#Since panda series are heterogenous we can add various data type in the same series\n",
    "Ages = pd.Series([12,15,20,10],index=[\"john\",\"mary\",\"jamees\",\"fei\"])\n",
    "print(Ages.index)\n",
    "print(Ages.values)"
   ]
  },
  {
   "cell_type": "code",
   "execution_count": 32,
   "id": "90620d60-e38b-49c4-8194-0faefca01259",
   "metadata": {},
   "outputs": [
    {
     "data": {
      "text/plain": [
       "Index([1, 2, 3, 4], dtype='int64')"
      ]
     },
     "execution_count": 32,
     "metadata": {},
     "output_type": "execute_result"
    }
   ],
   "source": [
    "#USING DICTIONARIES TO CREATE PANDA SERIES\n",
    "students={ 1 :\"john\", 2 :\"mary\", 3:\"jamees\",4:\"fei\"}\n",
    "Pupils = pd.Series(students)\n",
    "Pupils.values\n",
    "Pupils.index"
   ]
  },
  {
   "cell_type": "code",
   "execution_count": null,
   "id": "5b18ab63-1b67-4ec6-89e2-612f34012521",
   "metadata": {},
   "outputs": [],
   "source": []
  }
 ],
 "metadata": {
  "kernelspec": {
   "display_name": "Python 3 (ipykernel)",
   "language": "python",
   "name": "python3"
  },
  "language_info": {
   "codemirror_mode": {
    "name": "ipython",
    "version": 3
   },
   "file_extension": ".py",
   "mimetype": "text/x-python",
   "name": "python",
   "nbconvert_exporter": "python",
   "pygments_lexer": "ipython3",
   "version": "3.12.7"
  }
 },
 "nbformat": 4,
 "nbformat_minor": 5
}
